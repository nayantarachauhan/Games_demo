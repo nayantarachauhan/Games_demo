{
 "cells": [
  {
   "cell_type": "code",
   "execution_count": 1,
   "metadata": {},
   "outputs": [],
   "source": [
    "from IPython.display import clear_output\n",
    "clear_output()\n",
    "def print_board (board ) :\n",
    "    print(\"   \"+board[1]+'| '+ board[2]+' |'+board[3]+\"   \")\n",
    "    print(\"----------\")\n",
    "    print(\"   \"+board[4]+'| '+ board[5]+' |'+board[6]+\"   \")\n",
    "    print(\"----------\")\n",
    "    print(\"   \"+board[7]+'| '+ board[8]+' |'+board[9]+\"   \")\n",
    "    \n",
    "    \n",
    "    "
   ]
  },
  {
   "cell_type": "code",
   "execution_count": 2,
   "metadata": {},
   "outputs": [],
   "source": [
    "##print_board()"
   ]
  },
  {
   "cell_type": "code",
   "execution_count": 3,
   "metadata": {},
   "outputs": [],
   "source": [
    "##myboard = ['','x','o','o','o','x','x','o','x','o']\n",
    "##print_board(myboard)\n"
   ]
  },
  {
   "cell_type": "code",
   "execution_count": 4,
   "metadata": {},
   "outputs": [],
   "source": [
    "def player_input():\n",
    "    \n",
    "    marker = ''\n",
    "    while marker!='o' or  marker!='x' :\n",
    "        marker = input (\"Player1 please choose your symbol : 'X' 0r 'O'\").lower()\n",
    "        if marker=='x':\n",
    "            \n",
    "            return ('x','o')\n",
    "        else:\n",
    "            return ('o','x')\n",
    "            \n",
    "        \n",
    "\n",
    "\n",
    " \n"
   ]
  },
  {
   "cell_type": "code",
   "execution_count": 5,
   "metadata": {},
   "outputs": [],
   "source": [
    "##player_input()    here function is returning tuples so we have to unpack the tuples"
   ]
  },
  {
   "cell_type": "code",
   "execution_count": 6,
   "metadata": {},
   "outputs": [],
   "source": [
    "########  tuple unpacking \n",
    "##player1_marker,player2_marker =  player_input()\n"
   ]
  },
  {
   "cell_type": "code",
   "execution_count": 7,
   "metadata": {},
   "outputs": [],
   "source": [
    "##player1_marker"
   ]
  },
  {
   "cell_type": "code",
   "execution_count": 8,
   "metadata": {},
   "outputs": [],
   "source": [
    "##player2_marker"
   ]
  },
  {
   "cell_type": "code",
   "execution_count": 9,
   "metadata": {},
   "outputs": [],
   "source": [
    "def place_marker(board, marker, position):\n",
    "    \n",
    "    board[position]=marker\n",
    "    \n",
    "    \n",
    "    \n"
   ]
  },
  {
   "cell_type": "code",
   "execution_count": 10,
   "metadata": {},
   "outputs": [],
   "source": [
    "##place_marker(myboard,'m',8)\n",
    "##print_board(myboard)"
   ]
  },
  {
   "cell_type": "code",
   "execution_count": 11,
   "metadata": {},
   "outputs": [],
   "source": [
    "def win_check(board, mark):\n",
    "    return((board[1]==mark and board[2]==mark and board[3]==mark) or \n",
    "           (board[4]==mark and board[5]==mark and board[6]==mark) or\n",
    "           (board[7]==mark and board[8]==mark and board[9]==mark) or\n",
    "           (board[1]==mark and board[4]==mark and board[7]==mark) or\n",
    "           (board[2]==mark and board[5]==mark and board[8]==mark) or\n",
    "           (board[3]==mark and board[6]==mark and board[9]==mark) or\n",
    "           (board[1]==mark and board[5]==mark and board[3]==mark) or\n",
    "           (board[3]==mark and board[5]==mark and board[7]==mark))\n"
   ]
  },
  {
   "cell_type": "code",
   "execution_count": 12,
   "metadata": {},
   "outputs": [],
   "source": [
    "##win_check(myboard,'x')"
   ]
  },
  {
   "cell_type": "code",
   "execution_count": 13,
   "metadata": {},
   "outputs": [],
   "source": [
    "import random\n",
    "def choose_first():\n",
    "    toss =random.randint(0,1)\n",
    "    \n",
    "    if toss == 0:\n",
    "        \n",
    "        return 'player1'\n",
    "    else:\n",
    "        return 'player2'\n",
    "        "
   ]
  },
  {
   "cell_type": "code",
   "execution_count": 14,
   "metadata": {},
   "outputs": [],
   "source": [
    "def space_check(board, position):\n",
    "    return board[position] == ' '"
   ]
  },
  {
   "cell_type": "code",
   "execution_count": 15,
   "metadata": {},
   "outputs": [],
   "source": [
    "def full_board_check(board):\n",
    "    for i in range(1,10):\n",
    "        if space_check(board,i):\n",
    "            return False \n",
    "        \n",
    "    return True"
   ]
  },
  {
   "cell_type": "code",
   "execution_count": 16,
   "metadata": {},
   "outputs": [],
   "source": [
    "def player_choice(board):\n",
    "    \n",
    "    position = 0\n",
    "    \n",
    "    if position not in [1,2,3,4,5,6,7,8,9] or not space_check(board,position):\n",
    "        position = int(input(\"choose a position between(1-9)\"))\n",
    "        \n",
    "    return position    "
   ]
  },
  {
   "cell_type": "code",
   "execution_count": 17,
   "metadata": {},
   "outputs": [],
   "source": [
    "def replay():\n",
    "    choice = input(\"do you wanna play again: yes or no\")\n",
    "    return choice == 'yes'"
   ]
  },
  {
   "cell_type": "code",
   "execution_count": null,
   "metadata": {},
   "outputs": [
    {
     "name": "stdout",
     "output_type": "stream",
     "text": [
      "tic tac toe\n",
      "Player1 please choose your symbol : 'X' 0r 'O'o\n",
      "player1will go first\n",
      "Are you ready to play the game: y or ny\n",
      "player1\n",
      "player 1 chance\n",
      "    |   |    \n",
      "----------\n",
      "    |   |    \n",
      "----------\n",
      "    |   |    \n",
      "choose a position between(1-9)2\n",
      "player2 selected\n",
      "player2\n",
      "player 2 chance\n",
      "    | o |    \n",
      "----------\n",
      "    |   |    \n",
      "----------\n",
      "    |   |    \n",
      "choose a position between(1-9)2\n",
      "player1 selected\n",
      "player1\n",
      "player 1 chance\n",
      "    | x |    \n",
      "----------\n",
      "    |   |    \n",
      "----------\n",
      "    |   |    \n"
     ]
    }
   ],
   "source": [
    "##  putting the whole logic together   ###################\n",
    "\n",
    "print(\"tic tac toe\")\n",
    "\n",
    "while True :\n",
    "    \n",
    "    the_board = [' ']*10\n",
    "    player1_marker,player2_marker =  player_input()\n",
    "    \n",
    "    turn = choose_first()\n",
    "    \n",
    "    print(turn +\"will go first\")\n",
    "        \n",
    "    game_play = input(\"Are you ready to play the game: y or n\").lower()\n",
    "    if game_play==\"y\":\n",
    "        game_mode = True\n",
    "    \n",
    "    else :\n",
    "        game_mode = False\n",
    "        \n",
    "    while game_mode:\n",
    "        print(turn)\n",
    "        if turn=='player1':\n",
    "            print('player 1 chance')\n",
    "            print_board (the_board) \n",
    "            position = player_choice(the_board)\n",
    "            place_marker(the_board,player1_marker,position)\n",
    "            if win_check(the_board, player1_marker):\n",
    "                print(win_check(the_board, player1_marker))\n",
    "                print_board (the_board)\n",
    "                print(\"player1 has won\")\n",
    "                game_mode = False\n",
    "\n",
    "\n",
    "            else :\n",
    "\n",
    "                if full_board_check(the_board):\n",
    "                    print(\"A: \"+full_board_check(the_board))\n",
    "                    print_board (the_board)\n",
    "                    print(\"there is a tie!\")\n",
    "                    game_mode = False\n",
    "\n",
    "                else:\n",
    "                    print(\"player2 selected\")\n",
    "                    turn ='player2'\n",
    "\n",
    "        elif turn=='player2':\n",
    "            print('player 2 chance')\n",
    "            print_board (the_board)  \n",
    "            position = player_choice(the_board)\n",
    "            place_marker(the_board,player2_marker,position)\n",
    "            \n",
    "            if win_check(the_board, player2_marker):\n",
    "                print(win_check(the_board, player2_marker))\n",
    "                print_board (the_board)\n",
    "                print(\"player2 has won\")\n",
    "                game_mode = False\n",
    "\n",
    "\n",
    "            else :\n",
    "\n",
    "                if full_board_check(the_board):\n",
    "                    print(\"player b \"+full_board_check(the_board))\n",
    "                    print_board (the_board)\n",
    "                    print(\"there is a tie!\")\n",
    "                    game_mode = False\n",
    "\n",
    "                else:\n",
    "                    print(\"player1 selected\")\n",
    "                    turn ='player1'\n",
    "\n",
    "                \n",
    "                \n",
    "if not replay():\n",
    "    break\n",
    "    \n",
    "        \n",
    "            #############overvriding has to be corrected, even if the place is full \n",
    "            #############its taking the values and overriding the previous one.\n",
    "        \n",
    "        \n",
    "    \n",
    "    \n",
    "    \n"
   ]
  },
  {
   "cell_type": "code",
   "execution_count": null,
   "metadata": {},
   "outputs": [],
   "source": [
    "\n"
   ]
  },
  {
   "cell_type": "code",
   "execution_count": null,
   "metadata": {},
   "outputs": [],
   "source": []
  },
  {
   "cell_type": "code",
   "execution_count": null,
   "metadata": {},
   "outputs": [],
   "source": []
  },
  {
   "cell_type": "code",
   "execution_count": null,
   "metadata": {},
   "outputs": [],
   "source": []
  },
  {
   "cell_type": "code",
   "execution_count": null,
   "metadata": {},
   "outputs": [],
   "source": []
  },
  {
   "cell_type": "code",
   "execution_count": null,
   "metadata": {},
   "outputs": [],
   "source": []
  },
  {
   "cell_type": "code",
   "execution_count": null,
   "metadata": {},
   "outputs": [],
   "source": []
  },
  {
   "cell_type": "code",
   "execution_count": null,
   "metadata": {},
   "outputs": [],
   "source": []
  },
  {
   "cell_type": "code",
   "execution_count": null,
   "metadata": {},
   "outputs": [],
   "source": []
  },
  {
   "cell_type": "code",
   "execution_count": null,
   "metadata": {},
   "outputs": [],
   "source": []
  },
  {
   "cell_type": "code",
   "execution_count": null,
   "metadata": {},
   "outputs": [],
   "source": []
  },
  {
   "cell_type": "code",
   "execution_count": null,
   "metadata": {},
   "outputs": [],
   "source": []
  }
 ],
 "metadata": {
  "kernelspec": {
   "display_name": "Python 3",
   "language": "python",
   "name": "python3"
  },
  "language_info": {
   "codemirror_mode": {
    "name": "ipython",
    "version": 3
   },
   "file_extension": ".py",
   "mimetype": "text/x-python",
   "name": "python",
   "nbconvert_exporter": "python",
   "pygments_lexer": "ipython3",
   "version": "3.7.0"
  }
 },
 "nbformat": 4,
 "nbformat_minor": 2
}
