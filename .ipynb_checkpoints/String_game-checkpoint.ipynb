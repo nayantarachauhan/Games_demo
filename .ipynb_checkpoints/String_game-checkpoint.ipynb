{
 "cells": [
  {
   "cell_type": "code",
   "execution_count": null,
   "metadata": {},
   "outputs": [],
   "source": [
    "## GAME TO PRINT SUBSTRING STARTING WITH CONSONANTS AND VOWELS\n",
    "## PLAYER-A PRINTS SUBSTRING STARTING WITH CONSONANTS\n",
    "## PLAYER-B PRINTS SUBSTRING STARTING WITH VOWELS\n",
    "\n",
    "def game(string):\n",
    "    playerA_score = 0\n",
    "    playerB_score = 0\n",
    "    vowels = ['A','E','I','O','U']\n",
    "    for i in range(0,len(string)):\n",
    "        if string[i] in vowels:\n",
    "             playerB_score += len(string)-i\n",
    "        else:\n",
    "            playerA_score += len(string)-i\n",
    "            \n",
    "    if playerA_score > playerB_score:\n",
    "        print(\"PlayerA has made more substrings starting with consonants, score: {}\".format(playerA_score))\n",
    "        \n",
    "    elif playerB_score > playerA_score:\n",
    "        print(\"PlayerB has made more substrings starting with vowels, score : {} \".format(playerB_score))\n",
    "        \n",
    "    else:\n",
    "        print(\"Both made same no. of substrings, so match is drawn\")\n",
    "            \n"
   ]
  },
  {
   "cell_type": "code",
   "execution_count": null,
   "metadata": {},
   "outputs": [],
   "source": [
    "if __name__ == '__main__':\n",
    "    \n",
    "    print(\"Please enter the string to start the game\")\n",
    "    \n",
    "    input_string = str(input())\n",
    "    upper_case_string = input_string.upper()\n",
    "    \n",
    "    game(upper_case_string)"
   ]
  },
  {
   "cell_type": "code",
   "execution_count": null,
   "metadata": {},
   "outputs": [],
   "source": []
  }
 ],
 "metadata": {
  "kernelspec": {
   "display_name": "Python 3",
   "language": "python",
   "name": "python3"
  },
  "language_info": {
   "codemirror_mode": {
    "name": "ipython",
    "version": 3
   },
   "file_extension": ".py",
   "mimetype": "text/x-python",
   "name": "python",
   "nbconvert_exporter": "python",
   "pygments_lexer": "ipython3",
   "version": "3.7.0"
  }
 },
 "nbformat": 4,
 "nbformat_minor": 2
}
